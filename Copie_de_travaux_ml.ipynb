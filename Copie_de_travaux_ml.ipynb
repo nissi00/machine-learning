{
  "nbformat": 4,
  "nbformat_minor": 0,
  "metadata": {
    "colab": {
      "provenance": []
    },
    "kernelspec": {
      "name": "python3",
      "display_name": "Python 3"
    },
    "language_info": {
      "name": "python"
    }
  },
  "cells": [
    {
      "cell_type": "code",
      "execution_count": null,
      "metadata": {
        "id": "Q-LjsJJpQhVV"
      },
      "outputs": [],
      "source": []
    },
    {
      "cell_type": "markdown",
      "source": [
        "#  *bibliothèque de visualisation de données*\n",
        "\n",
        "\n",
        "\n",
        "* ## [seaborn](https://colab.research.google.com/drive/1vY4iivbSSYqTp4MyGAV_uN90tcd9x4Pb?usp=sharing)"
      ],
      "metadata": {
        "id": "m-iv5i4pU9RN"
      }
    },
    {
      "cell_type": "markdown",
      "source": [
        "#  *bibliothèques de manipulation de données*\n",
        "\n",
        "* ## [pandas](https://colab.research.google.com/drive/15uv-8ETfJnhAaWgwVFFO5U2uoVdXdcO1?usp=sharing)\n",
        "\n",
        "* ##  [sklearn](https://colab.research.google.com/drive/1yDPyMmN8biMU3qY8jdXxHQWexIq1ezl4?usp=sharing)"
      ],
      "metadata": {
        "id": "5Upf1ReoOV4B"
      }
    },
    {
      "cell_type": "markdown",
      "source": [
        "# *Types de problèmes*\n",
        "\n",
        "* ### [Régression linéaire](https://colab.research.google.com/drive/1FW3XfRKTNpOgM1757iDfVC3LbBeAUSt8?usp=sharing)\n",
        "\n",
        "* ### [classification](https://colab.research.google.com/drive/1clvVvJNhTnH0bIhGFy8U7Hfdq9tjyA0H?usp=sharing)\n",
        "\n",
        "* ### [clustering](https://colab.research.google.com/drive/1X3V0bUwtHXPmPJQLLnI_-51tHzOAmqfC?usp=sharing)\n",
        "\n",
        "* ### [Réseaux de neurones récurrents](https://colab.research.google.com/drive/1q08y_Br4e2lJTHCDQ9zlYBbgFXVgNKcD?usp=sharing)"
      ],
      "metadata": {
        "id": "ALXlaVHvPlCW"
      }
    }
  ]
}