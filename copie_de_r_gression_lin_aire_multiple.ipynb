{
  "nbformat": 4,
  "nbformat_minor": 0,
  "metadata": {
    "colab": {
      "provenance": []
    },
    "kernelspec": {
      "name": "python3",
      "display_name": "Python 3"
    },
    "language_info": {
      "name": "python"
    }
  },
  "cells": [
    {
      "cell_type": "markdown",
      "source": [
        "# Régression linéaire"
      ],
      "metadata": {
        "id": "HYNqBJcvSOzm"
      }
    },
    {
      "cell_type": "markdown",
      "source": [
        "La régression liéaire est un concepte statistique utilisé en machine learning pour expliquer,prédire une variable en fonction d'une ou plusieurs autre variables.\n",
        "\n",
        "Il y a donc une **variable cible** et des **variables explicatives** servant à décrire **cette variable cible**. \n",
        "\n",
        "La viable cible ou encore target doit être nécessairement une variable continue, tandis que les autres peuvent être catégorielles. \n",
        "\n",
        "Lorsqu'il y a plusieurs variables explicatives, on parle de régression linéaire multiple et de régression linéaire simple quand il y en a qu'une seule. "
      ],
      "metadata": {
        "id": "I0CQ-jkySYN0"
      }
    },
    {
      "cell_type": "markdown",
      "source": [
        "Dans la rubrique suivante nous appliquerons ce concepte à notre jeu de donnée [pétrol price prediction]."
      ],
      "metadata": {
        "id": "Oshzyv2oU2fE"
      }
    },
    {
      "cell_type": "markdown",
      "source": [
        "\n",
        "\n",
        "---\n",
        "\n"
      ],
      "metadata": {
        "id": "Y2z-izLinifn"
      }
    },
    {
      "cell_type": "markdown",
      "source": [
        "# Objectif"
      ],
      "metadata": {
        "id": "LvmB7dWsoGLm"
      }
    },
    {
      "cell_type": "markdown",
      "source": [
        "L'objectif de cette étude sera de prédire le prix en dollars (usd)du litre du pétrol\n",
        "\n",
        "\n"
      ],
      "metadata": {
        "id": "qKfbCK-yoJ8E"
      }
    },
    {
      "cell_type": "markdown",
      "source": [
        "# Importation des bibliothèques"
      ],
      "metadata": {
        "id": "c1tlC_c7nsV5"
      }
    },
    {
      "cell_type": "code",
      "source": [
        "# pandas pour manipuler les données en générale\n",
        "# seaborn et matplotlib pour la visualisation des données\n",
        "# numpy bibliothèque mathématique servant au calculs matriciels\n",
        "\n",
        "import pandas as pd\n",
        "import numpy as np\n",
        "import matplotlib.pyplot as plt\n",
        "import seaborn as sns"
      ],
      "metadata": {
        "id": "3kuxoHztnfsl"
      },
      "execution_count": null,
      "outputs": []
    },
    {
      "cell_type": "markdown",
      "source": [
        "# chargement des données"
      ],
      "metadata": {
        "id": "EiaDWxPIpahG"
      }
    },
    {
      "cell_type": "code",
      "execution_count": null,
      "metadata": {
        "id": "BGNcGeQnL3sI"
      },
      "outputs": [],
      "source": [
        "data = pd.read_csv(\"/content/Petrol Dataset June 23 2022 -- Version 2.csv\", encoding =\"ISO-8859-1\")#lecture du fichier\n"
      ]
    },
    {
      "cell_type": "code",
      "source": [
        "data"
      ],
      "metadata": {
        "id": "f7doJFYStXCd",
        "colab": {
          "base_uri": "https://localhost:8080/",
          "height": 520
        },
        "outputId": "b2c8043d-3db3-4d88-f7a2-cd6b1f150419"
      },
      "execution_count": null,
      "outputs": [
        {
          "output_type": "execute_result",
          "data": {
            "text/plain": [
              "      S#                  Country Daily Oil Consumption (Barrels) World Share  \\\n",
              "0      1            United States                      19,687,287         20%   \n",
              "1      2                    China                      12,791,553         13%   \n",
              "2      3                    India                       4,443,000          5%   \n",
              "3      4                    Japan                       4,012,877          4%   \n",
              "4      5                   Russia                       3,631,287          4%   \n",
              "..   ...                      ...                             ...         ...   \n",
              "176  177                   Belize                           4,001          0%   \n",
              "177  178                     Niue                              51          0%   \n",
              "178  179  Saint Pierre & Miquelon                             660          0%   \n",
              "179  180               Montserrat                             400          0%   \n",
              "180  181                    Tonga                             899          0%   \n",
              "\n",
              "     Yearly Gallons Per Capita  Price Per Gallon (USD)  Price Per Liter (USD)  \\\n",
              "0                        934.3                    5.19                   1.37   \n",
              "1                        138.7                    5.42                   1.43   \n",
              "2                         51.4                    5.05                   1.33   \n",
              "3                        481.5                    4.69                   1.24   \n",
              "4                        383.2                    3.41                   0.90   \n",
              "..                         ...                     ...                    ...   \n",
              "176                      166.5                    6.68                   1.76   \n",
              "177                      484.4                   11.43                   3.02   \n",
              "178                     1705.1                    8.27                   2.19   \n",
              "179                     1231.1                    4.57                   1.21   \n",
              "180                      136.3                   16.20                   4.28   \n",
              "\n",
              "     Price Per Liter (PKR) GDP Per Capita ( USD )  \\\n",
              "0                   289.97                 63,414   \n",
              "1                   302.87                 10,435   \n",
              "2                   281.93                  1,901   \n",
              "3                   262.05                 40,193   \n",
              "4                   190.56                 10,127   \n",
              "..                     ...                    ...   \n",
              "176                 373.09                  4,436   \n",
              "177                 638.73                 15,586   \n",
              "178                 462.13                 34,900   \n",
              "179                 255.07                 12,589   \n",
              "180                 905.22                  4,903   \n",
              "\n",
              "    Gallons GDP Per Capita Can Buy  xTimes Yearly Gallons Per Capita Buy  \n",
              "0                           12,218                                    13  \n",
              "1                            1,925                                    14  \n",
              "2                              376                                     7  \n",
              "3                            8,570                                    18  \n",
              "4                            2,970                                     8  \n",
              "..                             ...                                   ...  \n",
              "176                            664                                     4  \n",
              "177                          1,364                                     3  \n",
              "178                          4,220                                     2  \n",
              "179                          2,755                                     2  \n",
              "180                            303                                     2  \n",
              "\n",
              "[181 rows x 11 columns]"
            ],
            "text/html": [
              "\n",
              "  <div id=\"df-f5a5f309-4663-45a0-8a80-97e3ed350c18\">\n",
              "    <div class=\"colab-df-container\">\n",
              "      <div>\n",
              "<style scoped>\n",
              "    .dataframe tbody tr th:only-of-type {\n",
              "        vertical-align: middle;\n",
              "    }\n",
              "\n",
              "    .dataframe tbody tr th {\n",
              "        vertical-align: top;\n",
              "    }\n",
              "\n",
              "    .dataframe thead th {\n",
              "        text-align: right;\n",
              "    }\n",
              "</style>\n",
              "<table border=\"1\" class=\"dataframe\">\n",
              "  <thead>\n",
              "    <tr style=\"text-align: right;\">\n",
              "      <th></th>\n",
              "      <th>S#</th>\n",
              "      <th>Country</th>\n",
              "      <th>Daily Oil Consumption (Barrels)</th>\n",
              "      <th>World Share</th>\n",
              "      <th>Yearly Gallons Per Capita</th>\n",
              "      <th>Price Per Gallon (USD)</th>\n",
              "      <th>Price Per Liter (USD)</th>\n",
              "      <th>Price Per Liter (PKR)</th>\n",
              "      <th>GDP Per Capita ( USD )</th>\n",
              "      <th>Gallons GDP Per Capita Can Buy</th>\n",
              "      <th>xTimes Yearly Gallons Per Capita Buy</th>\n",
              "    </tr>\n",
              "  </thead>\n",
              "  <tbody>\n",
              "    <tr>\n",
              "      <th>0</th>\n",
              "      <td>1</td>\n",
              "      <td>United States</td>\n",
              "      <td>19,687,287</td>\n",
              "      <td>20%</td>\n",
              "      <td>934.3</td>\n",
              "      <td>5.19</td>\n",
              "      <td>1.37</td>\n",
              "      <td>289.97</td>\n",
              "      <td>63,414</td>\n",
              "      <td>12,218</td>\n",
              "      <td>13</td>\n",
              "    </tr>\n",
              "    <tr>\n",
              "      <th>1</th>\n",
              "      <td>2</td>\n",
              "      <td>China</td>\n",
              "      <td>12,791,553</td>\n",
              "      <td>13%</td>\n",
              "      <td>138.7</td>\n",
              "      <td>5.42</td>\n",
              "      <td>1.43</td>\n",
              "      <td>302.87</td>\n",
              "      <td>10,435</td>\n",
              "      <td>1,925</td>\n",
              "      <td>14</td>\n",
              "    </tr>\n",
              "    <tr>\n",
              "      <th>2</th>\n",
              "      <td>3</td>\n",
              "      <td>India</td>\n",
              "      <td>4,443,000</td>\n",
              "      <td>5%</td>\n",
              "      <td>51.4</td>\n",
              "      <td>5.05</td>\n",
              "      <td>1.33</td>\n",
              "      <td>281.93</td>\n",
              "      <td>1,901</td>\n",
              "      <td>376</td>\n",
              "      <td>7</td>\n",
              "    </tr>\n",
              "    <tr>\n",
              "      <th>3</th>\n",
              "      <td>4</td>\n",
              "      <td>Japan</td>\n",
              "      <td>4,012,877</td>\n",
              "      <td>4%</td>\n",
              "      <td>481.5</td>\n",
              "      <td>4.69</td>\n",
              "      <td>1.24</td>\n",
              "      <td>262.05</td>\n",
              "      <td>40,193</td>\n",
              "      <td>8,570</td>\n",
              "      <td>18</td>\n",
              "    </tr>\n",
              "    <tr>\n",
              "      <th>4</th>\n",
              "      <td>5</td>\n",
              "      <td>Russia</td>\n",
              "      <td>3,631,287</td>\n",
              "      <td>4%</td>\n",
              "      <td>383.2</td>\n",
              "      <td>3.41</td>\n",
              "      <td>0.90</td>\n",
              "      <td>190.56</td>\n",
              "      <td>10,127</td>\n",
              "      <td>2,970</td>\n",
              "      <td>8</td>\n",
              "    </tr>\n",
              "    <tr>\n",
              "      <th>...</th>\n",
              "      <td>...</td>\n",
              "      <td>...</td>\n",
              "      <td>...</td>\n",
              "      <td>...</td>\n",
              "      <td>...</td>\n",
              "      <td>...</td>\n",
              "      <td>...</td>\n",
              "      <td>...</td>\n",
              "      <td>...</td>\n",
              "      <td>...</td>\n",
              "      <td>...</td>\n",
              "    </tr>\n",
              "    <tr>\n",
              "      <th>176</th>\n",
              "      <td>177</td>\n",
              "      <td>Belize</td>\n",
              "      <td>4,001</td>\n",
              "      <td>0%</td>\n",
              "      <td>166.5</td>\n",
              "      <td>6.68</td>\n",
              "      <td>1.76</td>\n",
              "      <td>373.09</td>\n",
              "      <td>4,436</td>\n",
              "      <td>664</td>\n",
              "      <td>4</td>\n",
              "    </tr>\n",
              "    <tr>\n",
              "      <th>177</th>\n",
              "      <td>178</td>\n",
              "      <td>Niue</td>\n",
              "      <td>51</td>\n",
              "      <td>0%</td>\n",
              "      <td>484.4</td>\n",
              "      <td>11.43</td>\n",
              "      <td>3.02</td>\n",
              "      <td>638.73</td>\n",
              "      <td>15,586</td>\n",
              "      <td>1,364</td>\n",
              "      <td>3</td>\n",
              "    </tr>\n",
              "    <tr>\n",
              "      <th>178</th>\n",
              "      <td>179</td>\n",
              "      <td>Saint Pierre &amp; Miquelon</td>\n",
              "      <td>660</td>\n",
              "      <td>0%</td>\n",
              "      <td>1705.1</td>\n",
              "      <td>8.27</td>\n",
              "      <td>2.19</td>\n",
              "      <td>462.13</td>\n",
              "      <td>34,900</td>\n",
              "      <td>4,220</td>\n",
              "      <td>2</td>\n",
              "    </tr>\n",
              "    <tr>\n",
              "      <th>179</th>\n",
              "      <td>180</td>\n",
              "      <td>Montserrat</td>\n",
              "      <td>400</td>\n",
              "      <td>0%</td>\n",
              "      <td>1231.1</td>\n",
              "      <td>4.57</td>\n",
              "      <td>1.21</td>\n",
              "      <td>255.07</td>\n",
              "      <td>12,589</td>\n",
              "      <td>2,755</td>\n",
              "      <td>2</td>\n",
              "    </tr>\n",
              "    <tr>\n",
              "      <th>180</th>\n",
              "      <td>181</td>\n",
              "      <td>Tonga</td>\n",
              "      <td>899</td>\n",
              "      <td>0%</td>\n",
              "      <td>136.3</td>\n",
              "      <td>16.20</td>\n",
              "      <td>4.28</td>\n",
              "      <td>905.22</td>\n",
              "      <td>4,903</td>\n",
              "      <td>303</td>\n",
              "      <td>2</td>\n",
              "    </tr>\n",
              "  </tbody>\n",
              "</table>\n",
              "<p>181 rows × 11 columns</p>\n",
              "</div>\n",
              "      <button class=\"colab-df-convert\" onclick=\"convertToInteractive('df-f5a5f309-4663-45a0-8a80-97e3ed350c18')\"\n",
              "              title=\"Convert this dataframe to an interactive table.\"\n",
              "              style=\"display:none;\">\n",
              "        \n",
              "  <svg xmlns=\"http://www.w3.org/2000/svg\" height=\"24px\"viewBox=\"0 0 24 24\"\n",
              "       width=\"24px\">\n",
              "    <path d=\"M0 0h24v24H0V0z\" fill=\"none\"/>\n",
              "    <path d=\"M18.56 5.44l.94 2.06.94-2.06 2.06-.94-2.06-.94-.94-2.06-.94 2.06-2.06.94zm-11 1L8.5 8.5l.94-2.06 2.06-.94-2.06-.94L8.5 2.5l-.94 2.06-2.06.94zm10 10l.94 2.06.94-2.06 2.06-.94-2.06-.94-.94-2.06-.94 2.06-2.06.94z\"/><path d=\"M17.41 7.96l-1.37-1.37c-.4-.4-.92-.59-1.43-.59-.52 0-1.04.2-1.43.59L10.3 9.45l-7.72 7.72c-.78.78-.78 2.05 0 2.83L4 21.41c.39.39.9.59 1.41.59.51 0 1.02-.2 1.41-.59l7.78-7.78 2.81-2.81c.8-.78.8-2.07 0-2.86zM5.41 20L4 18.59l7.72-7.72 1.47 1.35L5.41 20z\"/>\n",
              "  </svg>\n",
              "      </button>\n",
              "      \n",
              "  <style>\n",
              "    .colab-df-container {\n",
              "      display:flex;\n",
              "      flex-wrap:wrap;\n",
              "      gap: 12px;\n",
              "    }\n",
              "\n",
              "    .colab-df-convert {\n",
              "      background-color: #E8F0FE;\n",
              "      border: none;\n",
              "      border-radius: 50%;\n",
              "      cursor: pointer;\n",
              "      display: none;\n",
              "      fill: #1967D2;\n",
              "      height: 32px;\n",
              "      padding: 0 0 0 0;\n",
              "      width: 32px;\n",
              "    }\n",
              "\n",
              "    .colab-df-convert:hover {\n",
              "      background-color: #E2EBFA;\n",
              "      box-shadow: 0px 1px 2px rgba(60, 64, 67, 0.3), 0px 1px 3px 1px rgba(60, 64, 67, 0.15);\n",
              "      fill: #174EA6;\n",
              "    }\n",
              "\n",
              "    [theme=dark] .colab-df-convert {\n",
              "      background-color: #3B4455;\n",
              "      fill: #D2E3FC;\n",
              "    }\n",
              "\n",
              "    [theme=dark] .colab-df-convert:hover {\n",
              "      background-color: #434B5C;\n",
              "      box-shadow: 0px 1px 3px 1px rgba(0, 0, 0, 0.15);\n",
              "      filter: drop-shadow(0px 1px 2px rgba(0, 0, 0, 0.3));\n",
              "      fill: #FFFFFF;\n",
              "    }\n",
              "  </style>\n",
              "\n",
              "      <script>\n",
              "        const buttonEl =\n",
              "          document.querySelector('#df-f5a5f309-4663-45a0-8a80-97e3ed350c18 button.colab-df-convert');\n",
              "        buttonEl.style.display =\n",
              "          google.colab.kernel.accessAllowed ? 'block' : 'none';\n",
              "\n",
              "        async function convertToInteractive(key) {\n",
              "          const element = document.querySelector('#df-f5a5f309-4663-45a0-8a80-97e3ed350c18');\n",
              "          const dataTable =\n",
              "            await google.colab.kernel.invokeFunction('convertToInteractive',\n",
              "                                                     [key], {});\n",
              "          if (!dataTable) return;\n",
              "\n",
              "          const docLinkHtml = 'Like what you see? Visit the ' +\n",
              "            '<a target=\"_blank\" href=https://colab.research.google.com/notebooks/data_table.ipynb>data table notebook</a>'\n",
              "            + ' to learn more about interactive tables.';\n",
              "          element.innerHTML = '';\n",
              "          dataTable['output_type'] = 'display_data';\n",
              "          await google.colab.output.renderOutput(dataTable, element);\n",
              "          const docLink = document.createElement('div');\n",
              "          docLink.innerHTML = docLinkHtml;\n",
              "          element.appendChild(docLink);\n",
              "        }\n",
              "      </script>\n",
              "    </div>\n",
              "  </div>\n",
              "  "
            ]
          },
          "metadata": {},
          "execution_count": 94
        }
      ]
    },
    {
      "cell_type": "markdown",
      "source": [
        "# exploration des données"
      ],
      "metadata": {
        "id": "gaK_tRQhsjdz"
      }
    },
    {
      "cell_type": "code",
      "source": [
        "data =data.drop('S#', axis = 1)\n",
        "# la colonne des indices n'est pas utile. "
      ],
      "metadata": {
        "id": "KRsPRhuGsgy9"
      },
      "execution_count": null,
      "outputs": []
    },
    {
      "cell_type": "code",
      "source": [
        "# Puisque nous voulons prédire le prix du litre en dollar nous n'avons donc pas besoin de sa valeur exprimée en une autre monnaie\n",
        "data = data.drop('Price Per Liter (PKR)', axis = 1)"
      ],
      "metadata": {
        "id": "1FlAt8ZutkI3"
      },
      "execution_count": null,
      "outputs": []
    },
    {
      "cell_type": "code",
      "source": [
        "data.shape"
      ],
      "metadata": {
        "id": "JndYbuJ7uhJc",
        "colab": {
          "base_uri": "https://localhost:8080/"
        },
        "outputId": "8b8f654d-a0c7-4021-ab39-baa1b85b623d"
      },
      "execution_count": null,
      "outputs": [
        {
          "output_type": "execute_result",
          "data": {
            "text/plain": [
              "(181, 9)"
            ]
          },
          "metadata": {},
          "execution_count": 97
        }
      ]
    },
    {
      "cell_type": "code",
      "source": [
        "data.describe()"
      ],
      "metadata": {
        "id": "mt-M8hTLukfd",
        "colab": {
          "base_uri": "https://localhost:8080/",
          "height": 300
        },
        "outputId": "fc5fb450-3654-4172-ee73-fe81a102b7fb"
      },
      "execution_count": null,
      "outputs": [
        {
          "output_type": "execute_result",
          "data": {
            "text/plain": [
              "       Yearly Gallons Per Capita  Price Per Gallon (USD)  \\\n",
              "count                 181.000000              181.000000   \n",
              "mean                  332.006630                5.695691   \n",
              "std                   436.558735                4.370484   \n",
              "min                     2.200000                0.080000   \n",
              "25%                    53.900000                4.150000   \n",
              "50%                   180.200000                5.280000   \n",
              "75%                   424.600000                6.760000   \n",
              "max                  3679.500000               54.890000   \n",
              "\n",
              "       Price Per Liter (USD)  xTimes Yearly Gallons Per Capita Buy  \n",
              "count             181.000000                            181.000000  \n",
              "mean                1.505138                             14.204420  \n",
              "std                 1.154575                             48.613866  \n",
              "min                 0.020000                              1.000000  \n",
              "25%                 1.100000                              6.000000  \n",
              "50%                 1.400000                              9.000000  \n",
              "75%                 1.790000                             12.000000  \n",
              "max                14.500000                            654.000000  "
            ],
            "text/html": [
              "\n",
              "  <div id=\"df-44efb50e-97fe-42c3-8205-b7c95b75bd7e\">\n",
              "    <div class=\"colab-df-container\">\n",
              "      <div>\n",
              "<style scoped>\n",
              "    .dataframe tbody tr th:only-of-type {\n",
              "        vertical-align: middle;\n",
              "    }\n",
              "\n",
              "    .dataframe tbody tr th {\n",
              "        vertical-align: top;\n",
              "    }\n",
              "\n",
              "    .dataframe thead th {\n",
              "        text-align: right;\n",
              "    }\n",
              "</style>\n",
              "<table border=\"1\" class=\"dataframe\">\n",
              "  <thead>\n",
              "    <tr style=\"text-align: right;\">\n",
              "      <th></th>\n",
              "      <th>Yearly Gallons Per Capita</th>\n",
              "      <th>Price Per Gallon (USD)</th>\n",
              "      <th>Price Per Liter (USD)</th>\n",
              "      <th>xTimes Yearly Gallons Per Capita Buy</th>\n",
              "    </tr>\n",
              "  </thead>\n",
              "  <tbody>\n",
              "    <tr>\n",
              "      <th>count</th>\n",
              "      <td>181.000000</td>\n",
              "      <td>181.000000</td>\n",
              "      <td>181.000000</td>\n",
              "      <td>181.000000</td>\n",
              "    </tr>\n",
              "    <tr>\n",
              "      <th>mean</th>\n",
              "      <td>332.006630</td>\n",
              "      <td>5.695691</td>\n",
              "      <td>1.505138</td>\n",
              "      <td>14.204420</td>\n",
              "    </tr>\n",
              "    <tr>\n",
              "      <th>std</th>\n",
              "      <td>436.558735</td>\n",
              "      <td>4.370484</td>\n",
              "      <td>1.154575</td>\n",
              "      <td>48.613866</td>\n",
              "    </tr>\n",
              "    <tr>\n",
              "      <th>min</th>\n",
              "      <td>2.200000</td>\n",
              "      <td>0.080000</td>\n",
              "      <td>0.020000</td>\n",
              "      <td>1.000000</td>\n",
              "    </tr>\n",
              "    <tr>\n",
              "      <th>25%</th>\n",
              "      <td>53.900000</td>\n",
              "      <td>4.150000</td>\n",
              "      <td>1.100000</td>\n",
              "      <td>6.000000</td>\n",
              "    </tr>\n",
              "    <tr>\n",
              "      <th>50%</th>\n",
              "      <td>180.200000</td>\n",
              "      <td>5.280000</td>\n",
              "      <td>1.400000</td>\n",
              "      <td>9.000000</td>\n",
              "    </tr>\n",
              "    <tr>\n",
              "      <th>75%</th>\n",
              "      <td>424.600000</td>\n",
              "      <td>6.760000</td>\n",
              "      <td>1.790000</td>\n",
              "      <td>12.000000</td>\n",
              "    </tr>\n",
              "    <tr>\n",
              "      <th>max</th>\n",
              "      <td>3679.500000</td>\n",
              "      <td>54.890000</td>\n",
              "      <td>14.500000</td>\n",
              "      <td>654.000000</td>\n",
              "    </tr>\n",
              "  </tbody>\n",
              "</table>\n",
              "</div>\n",
              "      <button class=\"colab-df-convert\" onclick=\"convertToInteractive('df-44efb50e-97fe-42c3-8205-b7c95b75bd7e')\"\n",
              "              title=\"Convert this dataframe to an interactive table.\"\n",
              "              style=\"display:none;\">\n",
              "        \n",
              "  <svg xmlns=\"http://www.w3.org/2000/svg\" height=\"24px\"viewBox=\"0 0 24 24\"\n",
              "       width=\"24px\">\n",
              "    <path d=\"M0 0h24v24H0V0z\" fill=\"none\"/>\n",
              "    <path d=\"M18.56 5.44l.94 2.06.94-2.06 2.06-.94-2.06-.94-.94-2.06-.94 2.06-2.06.94zm-11 1L8.5 8.5l.94-2.06 2.06-.94-2.06-.94L8.5 2.5l-.94 2.06-2.06.94zm10 10l.94 2.06.94-2.06 2.06-.94-2.06-.94-.94-2.06-.94 2.06-2.06.94z\"/><path d=\"M17.41 7.96l-1.37-1.37c-.4-.4-.92-.59-1.43-.59-.52 0-1.04.2-1.43.59L10.3 9.45l-7.72 7.72c-.78.78-.78 2.05 0 2.83L4 21.41c.39.39.9.59 1.41.59.51 0 1.02-.2 1.41-.59l7.78-7.78 2.81-2.81c.8-.78.8-2.07 0-2.86zM5.41 20L4 18.59l7.72-7.72 1.47 1.35L5.41 20z\"/>\n",
              "  </svg>\n",
              "      </button>\n",
              "      \n",
              "  <style>\n",
              "    .colab-df-container {\n",
              "      display:flex;\n",
              "      flex-wrap:wrap;\n",
              "      gap: 12px;\n",
              "    }\n",
              "\n",
              "    .colab-df-convert {\n",
              "      background-color: #E8F0FE;\n",
              "      border: none;\n",
              "      border-radius: 50%;\n",
              "      cursor: pointer;\n",
              "      display: none;\n",
              "      fill: #1967D2;\n",
              "      height: 32px;\n",
              "      padding: 0 0 0 0;\n",
              "      width: 32px;\n",
              "    }\n",
              "\n",
              "    .colab-df-convert:hover {\n",
              "      background-color: #E2EBFA;\n",
              "      box-shadow: 0px 1px 2px rgba(60, 64, 67, 0.3), 0px 1px 3px 1px rgba(60, 64, 67, 0.15);\n",
              "      fill: #174EA6;\n",
              "    }\n",
              "\n",
              "    [theme=dark] .colab-df-convert {\n",
              "      background-color: #3B4455;\n",
              "      fill: #D2E3FC;\n",
              "    }\n",
              "\n",
              "    [theme=dark] .colab-df-convert:hover {\n",
              "      background-color: #434B5C;\n",
              "      box-shadow: 0px 1px 3px 1px rgba(0, 0, 0, 0.15);\n",
              "      filter: drop-shadow(0px 1px 2px rgba(0, 0, 0, 0.3));\n",
              "      fill: #FFFFFF;\n",
              "    }\n",
              "  </style>\n",
              "\n",
              "      <script>\n",
              "        const buttonEl =\n",
              "          document.querySelector('#df-44efb50e-97fe-42c3-8205-b7c95b75bd7e button.colab-df-convert');\n",
              "        buttonEl.style.display =\n",
              "          google.colab.kernel.accessAllowed ? 'block' : 'none';\n",
              "\n",
              "        async function convertToInteractive(key) {\n",
              "          const element = document.querySelector('#df-44efb50e-97fe-42c3-8205-b7c95b75bd7e');\n",
              "          const dataTable =\n",
              "            await google.colab.kernel.invokeFunction('convertToInteractive',\n",
              "                                                     [key], {});\n",
              "          if (!dataTable) return;\n",
              "\n",
              "          const docLinkHtml = 'Like what you see? Visit the ' +\n",
              "            '<a target=\"_blank\" href=https://colab.research.google.com/notebooks/data_table.ipynb>data table notebook</a>'\n",
              "            + ' to learn more about interactive tables.';\n",
              "          element.innerHTML = '';\n",
              "          dataTable['output_type'] = 'display_data';\n",
              "          await google.colab.output.renderOutput(dataTable, element);\n",
              "          const docLink = document.createElement('div');\n",
              "          docLink.innerHTML = docLinkHtml;\n",
              "          element.appendChild(docLink);\n",
              "        }\n",
              "      </script>\n",
              "    </div>\n",
              "  </div>\n",
              "  "
            ]
          },
          "metadata": {},
          "execution_count": 98
        }
      ]
    },
    {
      "cell_type": "code",
      "source": [
        "data.info()"
      ],
      "metadata": {
        "colab": {
          "base_uri": "https://localhost:8080/"
        },
        "id": "6EJlWXWpurwO",
        "outputId": "b73b51dd-4bb8-4a72-8f64-2a5fd2ef3d6e"
      },
      "execution_count": null,
      "outputs": [
        {
          "output_type": "stream",
          "name": "stdout",
          "text": [
            "<class 'pandas.core.frame.DataFrame'>\n",
            "RangeIndex: 181 entries, 0 to 180\n",
            "Data columns (total 9 columns):\n",
            " #   Column                                Non-Null Count  Dtype  \n",
            "---  ------                                --------------  -----  \n",
            " 0   Country                               181 non-null    object \n",
            " 1   Daily Oil Consumption (Barrels)       181 non-null    object \n",
            " 2   World Share                           181 non-null    object \n",
            " 3   Yearly Gallons Per Capita             181 non-null    float64\n",
            " 4   Price Per Gallon (USD)                181 non-null    float64\n",
            " 5   Price Per Liter (USD)                 181 non-null    float64\n",
            " 6   GDP Per Capita ( USD )                181 non-null    object \n",
            " 7   Gallons GDP Per Capita Can Buy        181 non-null    object \n",
            " 8   xTimes Yearly Gallons Per Capita Buy  181 non-null    int64  \n",
            "dtypes: float64(3), int64(1), object(5)\n",
            "memory usage: 12.9+ KB\n"
          ]
        }
      ]
    },
    {
      "cell_type": "code",
      "source": [
        "data.isna().sum()"
      ],
      "metadata": {
        "id": "kfjnZOM8uy_J",
        "colab": {
          "base_uri": "https://localhost:8080/"
        },
        "outputId": "8b8af509-afde-482a-bc81-06afe358e35f"
      },
      "execution_count": null,
      "outputs": [
        {
          "output_type": "execute_result",
          "data": {
            "text/plain": [
              "Country                                 0\n",
              "Daily Oil Consumption (Barrels)         0\n",
              "World Share                             0\n",
              "Yearly Gallons Per Capita               0\n",
              "Price Per Gallon (USD)                  0\n",
              "Price Per Liter (USD)                   0\n",
              "GDP Per Capita ( USD )                  0\n",
              "Gallons GDP Per Capita Can Buy          0\n",
              "xTimes Yearly Gallons Per Capita Buy    0\n",
              "dtype: int64"
            ]
          },
          "metadata": {},
          "execution_count": 100
        }
      ]
    },
    {
      "cell_type": "code",
      "source": [
        "data.dtypes"
      ],
      "metadata": {
        "id": "EA6gskDpvMAP",
        "colab": {
          "base_uri": "https://localhost:8080/"
        },
        "outputId": "f692612e-721c-4d4a-dbaf-51d6811c2b1c"
      },
      "execution_count": null,
      "outputs": [
        {
          "output_type": "execute_result",
          "data": {
            "text/plain": [
              "Country                                  object\n",
              "Daily Oil Consumption (Barrels)          object\n",
              "World Share                              object\n",
              "Yearly Gallons Per Capita               float64\n",
              "Price Per Gallon (USD)                  float64\n",
              "Price Per Liter (USD)                   float64\n",
              "GDP Per Capita ( USD )                   object\n",
              "Gallons GDP Per Capita Can Buy           object\n",
              "xTimes Yearly Gallons Per Capita Buy      int64\n",
              "dtype: object"
            ]
          },
          "metadata": {},
          "execution_count": 101
        }
      ]
    },
    {
      "cell_type": "markdown",
      "source": [
        "Notre dataset ne contient pas de valeurs nan(manquantes), mais elle contient des données catégorielles.\n",
        "Nous allons donc les encoder"
      ],
      "metadata": {
        "id": "0gewBIVEvmax"
      }
    },
    {
      "cell_type": "markdown",
      "source": [
        "# Pré-traitement des donées"
      ],
      "metadata": {
        "id": "1ZRTMHMh0g8g"
      }
    },
    {
      "cell_type": "code",
      "source": [
        "from sklearn.preprocessing import LabelEncoder"
      ],
      "metadata": {
        "id": "WVklY-28wGHE"
      },
      "execution_count": null,
      "outputs": []
    },
    {
      "cell_type": "code",
      "source": [
        "s = (data.dtypes ==\"object\")\n",
        "object_cols = list(s[s].index)\n",
        "print(\"Categorical variables:\")\n",
        "print(object_cols)"
      ],
      "metadata": {
        "colab": {
          "base_uri": "https://localhost:8080/"
        },
        "id": "MTtXM53jzgK5",
        "outputId": "de6492c6-37ff-40a0-cd8e-e3a57839218d"
      },
      "execution_count": null,
      "outputs": [
        {
          "output_type": "stream",
          "name": "stdout",
          "text": [
            "Categorical variables:\n",
            "['Country', 'Daily Oil Consumption (Barrels)', 'World Share', 'GDP Per Capita ( USD )', 'Gallons GDP Per Capita Can Buy']\n"
          ]
        }
      ]
    },
    {
      "cell_type": "code",
      "source": [
        "label_data = data.copy()\n"
      ],
      "metadata": {
        "id": "OTN-HDV80GHp"
      },
      "execution_count": null,
      "outputs": []
    },
    {
      "cell_type": "code",
      "source": [
        "label_encoder = LabelEncoder()\n",
        "for col in object_cols:\n",
        "    label_data[col] = label_encoder.fit_transform(label_data[col])\n",
        "label_data.head()"
      ],
      "metadata": {
        "id": "jFcuLmKL0K1m",
        "colab": {
          "base_uri": "https://localhost:8080/",
          "height": 267
        },
        "outputId": "641a1f31-28d0-4a77-af3a-2dc87c725d7e"
      },
      "execution_count": null,
      "outputs": [
        {
          "output_type": "execute_result",
          "data": {
            "text/plain": [
              "   Country  Daily Oil Consumption (Barrels)  World Share  \\\n",
              "0      172                               44            4   \n",
              "1       35                               18            2   \n",
              "2       72                               96            7   \n",
              "3       80                               94            6   \n",
              "4      134                               79            6   \n",
              "\n",
              "   Yearly Gallons Per Capita  Price Per Gallon (USD)  Price Per Liter (USD)  \\\n",
              "0                      934.3                    5.19                   1.37   \n",
              "1                      138.7                    5.42                   1.43   \n",
              "2                       51.4                    5.05                   1.33   \n",
              "3                      481.5                    4.69                   1.24   \n",
              "4                      383.2                    3.41                   0.90   \n",
              "\n",
              "   GDP Per Capita ( USD )  Gallons GDP Per Capita Can Buy  \\\n",
              "0                     149                              36   \n",
              "1                      26                              27   \n",
              "2                      19                             100   \n",
              "3                     110                             158   \n",
              "4                      24                              73   \n",
              "\n",
              "   xTimes Yearly Gallons Per Capita Buy  \n",
              "0                                    13  \n",
              "1                                    14  \n",
              "2                                     7  \n",
              "3                                    18  \n",
              "4                                     8  "
            ],
            "text/html": [
              "\n",
              "  <div id=\"df-0a63f8e2-02fb-4cda-b2ce-61fa62778977\">\n",
              "    <div class=\"colab-df-container\">\n",
              "      <div>\n",
              "<style scoped>\n",
              "    .dataframe tbody tr th:only-of-type {\n",
              "        vertical-align: middle;\n",
              "    }\n",
              "\n",
              "    .dataframe tbody tr th {\n",
              "        vertical-align: top;\n",
              "    }\n",
              "\n",
              "    .dataframe thead th {\n",
              "        text-align: right;\n",
              "    }\n",
              "</style>\n",
              "<table border=\"1\" class=\"dataframe\">\n",
              "  <thead>\n",
              "    <tr style=\"text-align: right;\">\n",
              "      <th></th>\n",
              "      <th>Country</th>\n",
              "      <th>Daily Oil Consumption (Barrels)</th>\n",
              "      <th>World Share</th>\n",
              "      <th>Yearly Gallons Per Capita</th>\n",
              "      <th>Price Per Gallon (USD)</th>\n",
              "      <th>Price Per Liter (USD)</th>\n",
              "      <th>GDP Per Capita ( USD )</th>\n",
              "      <th>Gallons GDP Per Capita Can Buy</th>\n",
              "      <th>xTimes Yearly Gallons Per Capita Buy</th>\n",
              "    </tr>\n",
              "  </thead>\n",
              "  <tbody>\n",
              "    <tr>\n",
              "      <th>0</th>\n",
              "      <td>172</td>\n",
              "      <td>44</td>\n",
              "      <td>4</td>\n",
              "      <td>934.3</td>\n",
              "      <td>5.19</td>\n",
              "      <td>1.37</td>\n",
              "      <td>149</td>\n",
              "      <td>36</td>\n",
              "      <td>13</td>\n",
              "    </tr>\n",
              "    <tr>\n",
              "      <th>1</th>\n",
              "      <td>35</td>\n",
              "      <td>18</td>\n",
              "      <td>2</td>\n",
              "      <td>138.7</td>\n",
              "      <td>5.42</td>\n",
              "      <td>1.43</td>\n",
              "      <td>26</td>\n",
              "      <td>27</td>\n",
              "      <td>14</td>\n",
              "    </tr>\n",
              "    <tr>\n",
              "      <th>2</th>\n",
              "      <td>72</td>\n",
              "      <td>96</td>\n",
              "      <td>7</td>\n",
              "      <td>51.4</td>\n",
              "      <td>5.05</td>\n",
              "      <td>1.33</td>\n",
              "      <td>19</td>\n",
              "      <td>100</td>\n",
              "      <td>7</td>\n",
              "    </tr>\n",
              "    <tr>\n",
              "      <th>3</th>\n",
              "      <td>80</td>\n",
              "      <td>94</td>\n",
              "      <td>6</td>\n",
              "      <td>481.5</td>\n",
              "      <td>4.69</td>\n",
              "      <td>1.24</td>\n",
              "      <td>110</td>\n",
              "      <td>158</td>\n",
              "      <td>18</td>\n",
              "    </tr>\n",
              "    <tr>\n",
              "      <th>4</th>\n",
              "      <td>134</td>\n",
              "      <td>79</td>\n",
              "      <td>6</td>\n",
              "      <td>383.2</td>\n",
              "      <td>3.41</td>\n",
              "      <td>0.90</td>\n",
              "      <td>24</td>\n",
              "      <td>73</td>\n",
              "      <td>8</td>\n",
              "    </tr>\n",
              "  </tbody>\n",
              "</table>\n",
              "</div>\n",
              "      <button class=\"colab-df-convert\" onclick=\"convertToInteractive('df-0a63f8e2-02fb-4cda-b2ce-61fa62778977')\"\n",
              "              title=\"Convert this dataframe to an interactive table.\"\n",
              "              style=\"display:none;\">\n",
              "        \n",
              "  <svg xmlns=\"http://www.w3.org/2000/svg\" height=\"24px\"viewBox=\"0 0 24 24\"\n",
              "       width=\"24px\">\n",
              "    <path d=\"M0 0h24v24H0V0z\" fill=\"none\"/>\n",
              "    <path d=\"M18.56 5.44l.94 2.06.94-2.06 2.06-.94-2.06-.94-.94-2.06-.94 2.06-2.06.94zm-11 1L8.5 8.5l.94-2.06 2.06-.94-2.06-.94L8.5 2.5l-.94 2.06-2.06.94zm10 10l.94 2.06.94-2.06 2.06-.94-2.06-.94-.94-2.06-.94 2.06-2.06.94z\"/><path d=\"M17.41 7.96l-1.37-1.37c-.4-.4-.92-.59-1.43-.59-.52 0-1.04.2-1.43.59L10.3 9.45l-7.72 7.72c-.78.78-.78 2.05 0 2.83L4 21.41c.39.39.9.59 1.41.59.51 0 1.02-.2 1.41-.59l7.78-7.78 2.81-2.81c.8-.78.8-2.07 0-2.86zM5.41 20L4 18.59l7.72-7.72 1.47 1.35L5.41 20z\"/>\n",
              "  </svg>\n",
              "      </button>\n",
              "      \n",
              "  <style>\n",
              "    .colab-df-container {\n",
              "      display:flex;\n",
              "      flex-wrap:wrap;\n",
              "      gap: 12px;\n",
              "    }\n",
              "\n",
              "    .colab-df-convert {\n",
              "      background-color: #E8F0FE;\n",
              "      border: none;\n",
              "      border-radius: 50%;\n",
              "      cursor: pointer;\n",
              "      display: none;\n",
              "      fill: #1967D2;\n",
              "      height: 32px;\n",
              "      padding: 0 0 0 0;\n",
              "      width: 32px;\n",
              "    }\n",
              "\n",
              "    .colab-df-convert:hover {\n",
              "      background-color: #E2EBFA;\n",
              "      box-shadow: 0px 1px 2px rgba(60, 64, 67, 0.3), 0px 1px 3px 1px rgba(60, 64, 67, 0.15);\n",
              "      fill: #174EA6;\n",
              "    }\n",
              "\n",
              "    [theme=dark] .colab-df-convert {\n",
              "      background-color: #3B4455;\n",
              "      fill: #D2E3FC;\n",
              "    }\n",
              "\n",
              "    [theme=dark] .colab-df-convert:hover {\n",
              "      background-color: #434B5C;\n",
              "      box-shadow: 0px 1px 3px 1px rgba(0, 0, 0, 0.15);\n",
              "      filter: drop-shadow(0px 1px 2px rgba(0, 0, 0, 0.3));\n",
              "      fill: #FFFFFF;\n",
              "    }\n",
              "  </style>\n",
              "\n",
              "      <script>\n",
              "        const buttonEl =\n",
              "          document.querySelector('#df-0a63f8e2-02fb-4cda-b2ce-61fa62778977 button.colab-df-convert');\n",
              "        buttonEl.style.display =\n",
              "          google.colab.kernel.accessAllowed ? 'block' : 'none';\n",
              "\n",
              "        async function convertToInteractive(key) {\n",
              "          const element = document.querySelector('#df-0a63f8e2-02fb-4cda-b2ce-61fa62778977');\n",
              "          const dataTable =\n",
              "            await google.colab.kernel.invokeFunction('convertToInteractive',\n",
              "                                                     [key], {});\n",
              "          if (!dataTable) return;\n",
              "\n",
              "          const docLinkHtml = 'Like what you see? Visit the ' +\n",
              "            '<a target=\"_blank\" href=https://colab.research.google.com/notebooks/data_table.ipynb>data table notebook</a>'\n",
              "            + ' to learn more about interactive tables.';\n",
              "          element.innerHTML = '';\n",
              "          dataTable['output_type'] = 'display_data';\n",
              "          await google.colab.output.renderOutput(dataTable, element);\n",
              "          const docLink = document.createElement('div');\n",
              "          docLink.innerHTML = docLinkHtml;\n",
              "          element.appendChild(docLink);\n",
              "        }\n",
              "      </script>\n",
              "    </div>\n",
              "  </div>\n",
              "  "
            ]
          },
          "metadata": {},
          "execution_count": 105
        }
      ]
    },
    {
      "cell_type": "markdown",
      "source": [
        "# Segmentation des données"
      ],
      "metadata": {
        "id": "Q8nnDwzn0tdp"
      }
    },
    {
      "cell_type": "code",
      "source": [
        "from sklearn.model_selection import train_test_split"
      ],
      "metadata": {
        "id": "fdm_MHnp0rSD"
      },
      "execution_count": null,
      "outputs": []
    },
    {
      "cell_type": "code",
      "source": [
        "X= label_data.drop([\"Price Per Liter (USD)\"],axis =1)\n",
        "y= label_data[\"Price Per Liter (USD)\"]\n",
        "X_train, X_test, y_train, y_test = train_test_split(X, y,test_size=0.25, random_state=7)"
      ],
      "metadata": {
        "id": "Fn4K7Rfi0Xdn"
      },
      "execution_count": null,
      "outputs": []
    },
    {
      "cell_type": "markdown",
      "source": [
        "# Création du modèle"
      ],
      "metadata": {
        "id": "ay7AiC2N14vq"
      }
    },
    {
      "cell_type": "code",
      "source": [
        "from sklearn.linear_model import LinearRegression\n"
      ],
      "metadata": {
        "id": "Jedy6jYW106n"
      },
      "execution_count": null,
      "outputs": []
    },
    {
      "cell_type": "code",
      "source": [
        "model = LinearRegression()\n"
      ],
      "metadata": {
        "id": "uPyzApqG3BVV"
      },
      "execution_count": null,
      "outputs": []
    },
    {
      "cell_type": "markdown",
      "source": [
        "# Entrainement du modèle"
      ],
      "metadata": {
        "id": "FCbWakL_8PLL"
      }
    },
    {
      "cell_type": "code",
      "source": [
        "model.fit(X_train, y_train)"
      ],
      "metadata": {
        "colab": {
          "base_uri": "https://localhost:8080/"
        },
        "id": "qBQLbrFW8LwP",
        "outputId": "d41307ee-6ac0-4fd3-b524-44a88c6093ce"
      },
      "execution_count": null,
      "outputs": [
        {
          "output_type": "execute_result",
          "data": {
            "text/plain": [
              "LinearRegression()"
            ]
          },
          "metadata": {},
          "execution_count": 110
        }
      ]
    },
    {
      "cell_type": "markdown",
      "source": [
        "# Evaluation du modèle"
      ],
      "metadata": {
        "id": "-ywV6cXQ8Wi-"
      }
    },
    {
      "cell_type": "code",
      "source": [
        "from sklearn.metrics import mean_squared_error\n",
        "from sklearn.metrics import accuracy_score\n",
        "from sklearn.metrics import precision_score"
      ],
      "metadata": {
        "id": "7HRK3NDF3nWM"
      },
      "execution_count": null,
      "outputs": []
    },
    {
      "cell_type": "code",
      "source": [
        "# Evaluation du training set\n",
        "from sklearn.metrics import r2_score\n",
        "y_train_predict = model.predict(X_train)\n",
        "rmse = (np.sqrt(mean_squared_error(y_train, y_train_predict)))\n",
        "r2 = r2_score(y_train, y_train_predict)\n",
        " \n",
        "print('La performance du modèle sur la base dapprentissage')\n",
        "print('--------------------------------------')\n",
        "print('Lerreur quadratique moyenne est {}'.format(rmse))\n",
        "print('le score R2 est {}'.format(r2))\n",
        "print('\\n')\n",
        " \n",
        "# model evaluation for testing set\n",
        "y_test_predict = model.predict(X_test)\n",
        "rmse = (np.sqrt(mean_squared_error(y_test, y_test_predict)))\n",
        "r2 = r2_score(y_test, y_test_predict)\n",
        " \n",
        "print('La performance du modèle sur la base de test')\n",
        "print('--------------------------------------')\n",
        "print('Lerreur quadratique moyenne est {}'.format(rmse))\n",
        "print('le score R2 est {}'.format(r2))"
      ],
      "metadata": {
        "id": "3vkOS_WY61iR",
        "colab": {
          "base_uri": "https://localhost:8080/"
        },
        "outputId": "e47e00ae-85bd-4c1e-e526-4c8362bc3421"
      },
      "execution_count": null,
      "outputs": [
        {
          "output_type": "stream",
          "name": "stdout",
          "text": [
            "La performance du modèle sur la base dapprentissage\n",
            "--------------------------------------\n",
            "Lerreur quadratique moyenne est 0.002778759815684651\n",
            "le score R2 est 0.9999953910283284\n",
            "\n",
            "\n",
            "La performance du modèle sur la base de test\n",
            "--------------------------------------\n",
            "Lerreur quadratique moyenne est 0.003090749089996988\n",
            "le score R2 est 0.9999631366550175\n"
          ]
        }
      ]
    },
    {
      "cell_type": "code",
      "source": [],
      "metadata": {
        "id": "-NZaoD3XPSij"
      },
      "execution_count": null,
      "outputs": []
    },
    {
      "cell_type": "markdown",
      "source": [
        "# Prédiction"
      ],
      "metadata": {
        "id": "fcAwGIr39Vjp"
      }
    },
    {
      "cell_type": "code",
      "source": [
        "cross_check = pd.DataFrame({'Actual' : y_test, 'Predicted' : y_test_predict})\n",
        "cross_check# l'indexe 50 dans x_test correspond à 198 dans la dataset originale, ce qui corespond à la DrugX comme prédit"
      ],
      "metadata": {
        "id": "HPCDdioH9VI9"
      },
      "execution_count": null,
      "outputs": []
    },
    {
      "cell_type": "code",
      "source": [
        "model.predict([X_test.iloc[5]])"
      ],
      "metadata": {
        "id": "TCCClUaP7tka",
        "colab": {
          "base_uri": "https://localhost:8080/"
        },
        "outputId": "fccae848-fc85-4df4-894e-1817e1f3b85d"
      },
      "execution_count": null,
      "outputs": [
        {
          "output_type": "stream",
          "name": "stderr",
          "text": [
            "/usr/local/lib/python3.8/dist-packages/sklearn/base.py:450: UserWarning: X does not have valid feature names, but LinearRegression was fitted with feature names\n",
            "  warnings.warn(\n"
          ]
        },
        {
          "output_type": "execute_result",
          "data": {
            "text/plain": [
              "array([1.78337867])"
            ]
          },
          "metadata": {},
          "execution_count": 114
        }
      ]
    },
    {
      "cell_type": "code",
      "source": [
        "data.iloc[[133]]"
      ],
      "metadata": {
        "colab": {
          "base_uri": "https://localhost:8080/",
          "height": 142
        },
        "id": "_hvfOiBRSOAG",
        "outputId": "8d7f77d8-b863-4f53-ee31-5dc7ffa57553"
      },
      "execution_count": null,
      "outputs": [
        {
          "output_type": "execute_result",
          "data": {
            "text/plain": [
              "     Country Daily Oil Consumption (Barrels) World Share  \\\n",
              "133  Moldova                          18,001          0%   \n",
              "\n",
              "     Yearly Gallons Per Capita  Price Per Gallon (USD)  Price Per Liter (USD)  \\\n",
              "133                       67.9                    6.75                   1.78   \n",
              "\n",
              "    GDP Per Capita ( USD ) Gallons GDP Per Capita Can Buy  \\\n",
              "133                  4,551                            674   \n",
              "\n",
              "     xTimes Yearly Gallons Per Capita Buy  \n",
              "133                                    10  "
            ],
            "text/html": [
              "\n",
              "  <div id=\"df-465677a2-ca99-46ee-9774-b0fd511f72d5\">\n",
              "    <div class=\"colab-df-container\">\n",
              "      <div>\n",
              "<style scoped>\n",
              "    .dataframe tbody tr th:only-of-type {\n",
              "        vertical-align: middle;\n",
              "    }\n",
              "\n",
              "    .dataframe tbody tr th {\n",
              "        vertical-align: top;\n",
              "    }\n",
              "\n",
              "    .dataframe thead th {\n",
              "        text-align: right;\n",
              "    }\n",
              "</style>\n",
              "<table border=\"1\" class=\"dataframe\">\n",
              "  <thead>\n",
              "    <tr style=\"text-align: right;\">\n",
              "      <th></th>\n",
              "      <th>Country</th>\n",
              "      <th>Daily Oil Consumption (Barrels)</th>\n",
              "      <th>World Share</th>\n",
              "      <th>Yearly Gallons Per Capita</th>\n",
              "      <th>Price Per Gallon (USD)</th>\n",
              "      <th>Price Per Liter (USD)</th>\n",
              "      <th>GDP Per Capita ( USD )</th>\n",
              "      <th>Gallons GDP Per Capita Can Buy</th>\n",
              "      <th>xTimes Yearly Gallons Per Capita Buy</th>\n",
              "    </tr>\n",
              "  </thead>\n",
              "  <tbody>\n",
              "    <tr>\n",
              "      <th>133</th>\n",
              "      <td>Moldova</td>\n",
              "      <td>18,001</td>\n",
              "      <td>0%</td>\n",
              "      <td>67.9</td>\n",
              "      <td>6.75</td>\n",
              "      <td>1.78</td>\n",
              "      <td>4,551</td>\n",
              "      <td>674</td>\n",
              "      <td>10</td>\n",
              "    </tr>\n",
              "  </tbody>\n",
              "</table>\n",
              "</div>\n",
              "      <button class=\"colab-df-convert\" onclick=\"convertToInteractive('df-465677a2-ca99-46ee-9774-b0fd511f72d5')\"\n",
              "              title=\"Convert this dataframe to an interactive table.\"\n",
              "              style=\"display:none;\">\n",
              "        \n",
              "  <svg xmlns=\"http://www.w3.org/2000/svg\" height=\"24px\"viewBox=\"0 0 24 24\"\n",
              "       width=\"24px\">\n",
              "    <path d=\"M0 0h24v24H0V0z\" fill=\"none\"/>\n",
              "    <path d=\"M18.56 5.44l.94 2.06.94-2.06 2.06-.94-2.06-.94-.94-2.06-.94 2.06-2.06.94zm-11 1L8.5 8.5l.94-2.06 2.06-.94-2.06-.94L8.5 2.5l-.94 2.06-2.06.94zm10 10l.94 2.06.94-2.06 2.06-.94-2.06-.94-.94-2.06-.94 2.06-2.06.94z\"/><path d=\"M17.41 7.96l-1.37-1.37c-.4-.4-.92-.59-1.43-.59-.52 0-1.04.2-1.43.59L10.3 9.45l-7.72 7.72c-.78.78-.78 2.05 0 2.83L4 21.41c.39.39.9.59 1.41.59.51 0 1.02-.2 1.41-.59l7.78-7.78 2.81-2.81c.8-.78.8-2.07 0-2.86zM5.41 20L4 18.59l7.72-7.72 1.47 1.35L5.41 20z\"/>\n",
              "  </svg>\n",
              "      </button>\n",
              "      \n",
              "  <style>\n",
              "    .colab-df-container {\n",
              "      display:flex;\n",
              "      flex-wrap:wrap;\n",
              "      gap: 12px;\n",
              "    }\n",
              "\n",
              "    .colab-df-convert {\n",
              "      background-color: #E8F0FE;\n",
              "      border: none;\n",
              "      border-radius: 50%;\n",
              "      cursor: pointer;\n",
              "      display: none;\n",
              "      fill: #1967D2;\n",
              "      height: 32px;\n",
              "      padding: 0 0 0 0;\n",
              "      width: 32px;\n",
              "    }\n",
              "\n",
              "    .colab-df-convert:hover {\n",
              "      background-color: #E2EBFA;\n",
              "      box-shadow: 0px 1px 2px rgba(60, 64, 67, 0.3), 0px 1px 3px 1px rgba(60, 64, 67, 0.15);\n",
              "      fill: #174EA6;\n",
              "    }\n",
              "\n",
              "    [theme=dark] .colab-df-convert {\n",
              "      background-color: #3B4455;\n",
              "      fill: #D2E3FC;\n",
              "    }\n",
              "\n",
              "    [theme=dark] .colab-df-convert:hover {\n",
              "      background-color: #434B5C;\n",
              "      box-shadow: 0px 1px 3px 1px rgba(0, 0, 0, 0.15);\n",
              "      filter: drop-shadow(0px 1px 2px rgba(0, 0, 0, 0.3));\n",
              "      fill: #FFFFFF;\n",
              "    }\n",
              "  </style>\n",
              "\n",
              "      <script>\n",
              "        const buttonEl =\n",
              "          document.querySelector('#df-465677a2-ca99-46ee-9774-b0fd511f72d5 button.colab-df-convert');\n",
              "        buttonEl.style.display =\n",
              "          google.colab.kernel.accessAllowed ? 'block' : 'none';\n",
              "\n",
              "        async function convertToInteractive(key) {\n",
              "          const element = document.querySelector('#df-465677a2-ca99-46ee-9774-b0fd511f72d5');\n",
              "          const dataTable =\n",
              "            await google.colab.kernel.invokeFunction('convertToInteractive',\n",
              "                                                     [key], {});\n",
              "          if (!dataTable) return;\n",
              "\n",
              "          const docLinkHtml = 'Like what you see? Visit the ' +\n",
              "            '<a target=\"_blank\" href=https://colab.research.google.com/notebooks/data_table.ipynb>data table notebook</a>'\n",
              "            + ' to learn more about interactive tables.';\n",
              "          element.innerHTML = '';\n",
              "          dataTable['output_type'] = 'display_data';\n",
              "          await google.colab.output.renderOutput(dataTable, element);\n",
              "          const docLink = document.createElement('div');\n",
              "          docLink.innerHTML = docLinkHtml;\n",
              "          element.appendChild(docLink);\n",
              "        }\n",
              "      </script>\n",
              "    </div>\n",
              "  </div>\n",
              "  "
            ]
          },
          "metadata": {},
          "execution_count": 115
        }
      ]
    },
    {
      "cell_type": "markdown",
      "source": [
        "L'indexe 5 de X_test correspond à l'indexe 133 de la dataset originale.\n",
        "On remarque que nous avons bien prédit le prix du litre d'essence en moldavie."
      ],
      "metadata": {
        "id": "_EWAN_miq7aM"
      }
    },
    {
      "cell_type": "markdown",
      "source": [
        "<---- [sklearn](https://colab.research.google.com/drive/1yDPyMmN8biMU3qY8jdXxHQWexIq1ezl4?usp=sharing)\n",
        "\n",
        "[classification](https://colab.research.google.com/drive/1clvVvJNhTnH0bIhGFy8U7Hfdq9tjyA0H?usp=sharing) ---->"
      ],
      "metadata": {
        "id": "JFan3EhqhLyW"
      }
    }
  ]
}