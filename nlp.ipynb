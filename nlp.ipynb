{
  "nbformat": 4,
  "nbformat_minor": 0,
  "metadata": {
    "colab": {
      "provenance": [],
      "include_colab_link": true
    },
    "kernelspec": {
      "name": "python3",
      "display_name": "Python 3"
    },
    "language_info": {
      "name": "python"
    }
  },
  "cells": [
    {
      "cell_type": "markdown",
      "metadata": {
        "id": "view-in-github",
        "colab_type": "text"
      },
      "source": [
        "<a href=\"https://colab.research.google.com/github/nissi00/machine-learning/blob/main/nlp.ipynb\" target=\"_parent\"><img src=\"https://colab.research.google.com/assets/colab-badge.svg\" alt=\"Open In Colab\"/></a>"
      ]
    },
    {
      "cell_type": "markdown",
      "source": [
        "# inspecter la dataset"
      ],
      "metadata": {
        "id": "oaIWXNDWcJr6"
      }
    },
    {
      "cell_type": "code",
      "execution_count": null,
      "metadata": {
        "id": "hUaIjf58UK0A",
        "colab": {
          "base_uri": "https://localhost:8080/"
        },
        "outputId": "2ede0849-291c-47a0-bf51-583b6d421451"
      },
      "outputs": [
        {
          "output_type": "stream",
          "name": "stderr",
          "text": [
            "[nltk_data] Downloading package punkt to /root/nltk_data...\n",
            "[nltk_data]   Unzipping tokenizers/punkt.zip.\n",
            "[nltk_data] Downloading package stopwords to /root/nltk_data...\n",
            "[nltk_data]   Unzipping corpora/stopwords.zip.\n",
            "[nltk_data] Downloading package wordnet to /root/nltk_data...\n"
          ]
        }
      ],
      "source": [
        "import pandas as pd\n",
        "import numpy as np\n",
        "import re\n",
        "import nltk\n",
        "from nltk.tokenize import word_tokenize\n",
        "nltk.download('punkt')\n",
        "nltk.download('stopwords')\n",
        "nltk.download('wordnet')\n",
        "from nltk.corpus import stopwords\n",
        "from nltk.stem.porter import PorterStemmer\n",
        "from nltk.stem import WordNetLemmatizer\n",
        "from sklearn.feature_extraction.text import TfidfVectorizer"
      ]
    },
    {
      "cell_type": "code",
      "source": [
        "from google.colab import drive\n",
        "drive.mount('/content/drive')"
      ],
      "metadata": {
        "id": "xANuRBey5Lhx",
        "colab": {
          "base_uri": "https://localhost:8080/"
        },
        "outputId": "1746fb03-2b1f-4785-9f6a-5ac7c3301848"
      },
      "execution_count": null,
      "outputs": [
        {
          "output_type": "stream",
          "name": "stdout",
          "text": [
            "Mounted at /content/drive\n"
          ]
        }
      ]
    },
    {
      "cell_type": "code",
      "source": [
        "! unzip /content/drive/MyDrive/archive.zip -d email #déziper et renommer le dossier sous le nom \"email\""
      ],
      "metadata": {
        "colab": {
          "base_uri": "https://localhost:8080/"
        },
        "id": "mNKGXE9IUrJg",
        "outputId": "a66ae4ff-119f-44b6-8c2f-bd147c1b1ae8"
      },
      "execution_count": null,
      "outputs": [
        {
          "output_type": "stream",
          "name": "stdout",
          "text": [
            "Archive:  /content/drive/MyDrive/archive.zip\n",
            "  inflating: email/SMS_test.csv      \n",
            "  inflating: email/SMS_train.csv     \n"
          ]
        }
      ]
    },
    {
      "cell_type": "code",
      "source": [
        "df = pd.concat([pd.read_csv('/content/email/SMS_test.csv',encoding=\"ISO-8859-1\"),\n",
        "                pd.read_csv('/content/email/SMS_train.csv',encoding=\"ISO-8859-1\")])\n",
        "#concatener les fichiers pour une répartition es données test et train moins biaisée"
      ],
      "metadata": {
        "id": "-Ansjj-FVTcR"
      },
      "execution_count": null,
      "outputs": []
    },
    {
      "cell_type": "code",
      "source": [
        "df"
      ],
      "metadata": {
        "colab": {
          "base_uri": "https://localhost:8080/",
          "height": 423
        },
        "id": "Yj1IpXw9x9TM",
        "outputId": "3bdf8700-8efd-403c-bc01-a0f11d4bfc2a"
      },
      "execution_count": null,
      "outputs": [
        {
          "output_type": "execute_result",
          "data": {
            "text/plain": [
              "     S. No.                                       Message_body     Label\n",
              "0         1  UpgrdCentre Orange customer, you may now claim...      Spam\n",
              "1         2  Loan for any purpose £500 - £75,000. Homeowner...      Spam\n",
              "2         3  Congrats! Nokia 3650 video camera phone is you...      Spam\n",
              "3         4  URGENT! Your Mobile number has been awarded wi...      Spam\n",
              "4         5  Someone has contacted our dating service and e...      Spam\n",
              "..      ...                                                ...       ...\n",
              "952     953  hows my favourite person today? r u workin har...  Non-Spam\n",
              "953     954                      How much you got for cleaning  Non-Spam\n",
              "954     955  Sorry da. I gone mad so many pending works wha...  Non-Spam\n",
              "955     956                                 Wat time ü finish?  Non-Spam\n",
              "956     957                    Just glad to be talking to you.  Non-Spam\n",
              "\n",
              "[1082 rows x 3 columns]"
            ],
            "text/html": [
              "\n",
              "\n",
              "  <div id=\"df-1caaec19-56f9-4740-9754-07f51440e932\">\n",
              "    <div class=\"colab-df-container\">\n",
              "      <div>\n",
              "<style scoped>\n",
              "    .dataframe tbody tr th:only-of-type {\n",
              "        vertical-align: middle;\n",
              "    }\n",
              "\n",
              "    .dataframe tbody tr th {\n",
              "        vertical-align: top;\n",
              "    }\n",
              "\n",
              "    .dataframe thead th {\n",
              "        text-align: right;\n",
              "    }\n",
              "</style>\n",
              "<table border=\"1\" class=\"dataframe\">\n",
              "  <thead>\n",
              "    <tr style=\"text-align: right;\">\n",
              "      <th></th>\n",
              "      <th>S. No.</th>\n",
              "      <th>Message_body</th>\n",
              "      <th>Label</th>\n",
              "    </tr>\n",
              "  </thead>\n",
              "  <tbody>\n",
              "    <tr>\n",
              "      <th>0</th>\n",
              "      <td>1</td>\n",
              "      <td>UpgrdCentre Orange customer, you may now claim...</td>\n",
              "      <td>Spam</td>\n",
              "    </tr>\n",
              "    <tr>\n",
              "      <th>1</th>\n",
              "      <td>2</td>\n",
              "      <td>Loan for any purpose £500 - £75,000. Homeowner...</td>\n",
              "      <td>Spam</td>\n",
              "    </tr>\n",
              "    <tr>\n",
              "      <th>2</th>\n",
              "      <td>3</td>\n",
              "      <td>Congrats! Nokia 3650 video camera phone is you...</td>\n",
              "      <td>Spam</td>\n",
              "    </tr>\n",
              "    <tr>\n",
              "      <th>3</th>\n",
              "      <td>4</td>\n",
              "      <td>URGENT! Your Mobile number has been awarded wi...</td>\n",
              "      <td>Spam</td>\n",
              "    </tr>\n",
              "    <tr>\n",
              "      <th>4</th>\n",
              "      <td>5</td>\n",
              "      <td>Someone has contacted our dating service and e...</td>\n",
              "      <td>Spam</td>\n",
              "    </tr>\n",
              "    <tr>\n",
              "      <th>...</th>\n",
              "      <td>...</td>\n",
              "      <td>...</td>\n",
              "      <td>...</td>\n",
              "    </tr>\n",
              "    <tr>\n",
              "      <th>952</th>\n",
              "      <td>953</td>\n",
              "      <td>hows my favourite person today? r u workin har...</td>\n",
              "      <td>Non-Spam</td>\n",
              "    </tr>\n",
              "    <tr>\n",
              "      <th>953</th>\n",
              "      <td>954</td>\n",
              "      <td>How much you got for cleaning</td>\n",
              "      <td>Non-Spam</td>\n",
              "    </tr>\n",
              "    <tr>\n",
              "      <th>954</th>\n",
              "      <td>955</td>\n",
              "      <td>Sorry da. I gone mad so many pending works wha...</td>\n",
              "      <td>Non-Spam</td>\n",
              "    </tr>\n",
              "    <tr>\n",
              "      <th>955</th>\n",
              "      <td>956</td>\n",
              "      <td>Wat time ü finish?</td>\n",
              "      <td>Non-Spam</td>\n",
              "    </tr>\n",
              "    <tr>\n",
              "      <th>956</th>\n",
              "      <td>957</td>\n",
              "      <td>Just glad to be talking to you.</td>\n",
              "      <td>Non-Spam</td>\n",
              "    </tr>\n",
              "  </tbody>\n",
              "</table>\n",
              "<p>1082 rows × 3 columns</p>\n",
              "</div>\n",
              "      <button class=\"colab-df-convert\" onclick=\"convertToInteractive('df-1caaec19-56f9-4740-9754-07f51440e932')\"\n",
              "              title=\"Convert this dataframe to an interactive table.\"\n",
              "              style=\"display:none;\">\n",
              "\n",
              "  <svg xmlns=\"http://www.w3.org/2000/svg\" height=\"24px\"viewBox=\"0 0 24 24\"\n",
              "       width=\"24px\">\n",
              "    <path d=\"M0 0h24v24H0V0z\" fill=\"none\"/>\n",
              "    <path d=\"M18.56 5.44l.94 2.06.94-2.06 2.06-.94-2.06-.94-.94-2.06-.94 2.06-2.06.94zm-11 1L8.5 8.5l.94-2.06 2.06-.94-2.06-.94L8.5 2.5l-.94 2.06-2.06.94zm10 10l.94 2.06.94-2.06 2.06-.94-2.06-.94-.94-2.06-.94 2.06-2.06.94z\"/><path d=\"M17.41 7.96l-1.37-1.37c-.4-.4-.92-.59-1.43-.59-.52 0-1.04.2-1.43.59L10.3 9.45l-7.72 7.72c-.78.78-.78 2.05 0 2.83L4 21.41c.39.39.9.59 1.41.59.51 0 1.02-.2 1.41-.59l7.78-7.78 2.81-2.81c.8-.78.8-2.07 0-2.86zM5.41 20L4 18.59l7.72-7.72 1.47 1.35L5.41 20z\"/>\n",
              "  </svg>\n",
              "      </button>\n",
              "\n",
              "\n",
              "\n",
              "    <div id=\"df-f68334f2-6cd7-4a3e-882c-bd87b5695980\">\n",
              "      <button class=\"colab-df-quickchart\" onclick=\"quickchart('df-f68334f2-6cd7-4a3e-882c-bd87b5695980')\"\n",
              "              title=\"Suggest charts.\"\n",
              "              style=\"display:none;\">\n",
              "\n",
              "<svg xmlns=\"http://www.w3.org/2000/svg\" height=\"24px\"viewBox=\"0 0 24 24\"\n",
              "     width=\"24px\">\n",
              "    <g>\n",
              "        <path d=\"M19 3H5c-1.1 0-2 .9-2 2v14c0 1.1.9 2 2 2h14c1.1 0 2-.9 2-2V5c0-1.1-.9-2-2-2zM9 17H7v-7h2v7zm4 0h-2V7h2v10zm4 0h-2v-4h2v4z\"/>\n",
              "    </g>\n",
              "</svg>\n",
              "      </button>\n",
              "    </div>\n",
              "\n",
              "<style>\n",
              "  .colab-df-quickchart {\n",
              "    background-color: #E8F0FE;\n",
              "    border: none;\n",
              "    border-radius: 50%;\n",
              "    cursor: pointer;\n",
              "    display: none;\n",
              "    fill: #1967D2;\n",
              "    height: 32px;\n",
              "    padding: 0 0 0 0;\n",
              "    width: 32px;\n",
              "  }\n",
              "\n",
              "  .colab-df-quickchart:hover {\n",
              "    background-color: #E2EBFA;\n",
              "    box-shadow: 0px 1px 2px rgba(60, 64, 67, 0.3), 0px 1px 3px 1px rgba(60, 64, 67, 0.15);\n",
              "    fill: #174EA6;\n",
              "  }\n",
              "\n",
              "  [theme=dark] .colab-df-quickchart {\n",
              "    background-color: #3B4455;\n",
              "    fill: #D2E3FC;\n",
              "  }\n",
              "\n",
              "  [theme=dark] .colab-df-quickchart:hover {\n",
              "    background-color: #434B5C;\n",
              "    box-shadow: 0px 1px 3px 1px rgba(0, 0, 0, 0.15);\n",
              "    filter: drop-shadow(0px 1px 2px rgba(0, 0, 0, 0.3));\n",
              "    fill: #FFFFFF;\n",
              "  }\n",
              "</style>\n",
              "\n",
              "    <script>\n",
              "      async function quickchart(key) {\n",
              "        const containerElement = document.querySelector('#' + key);\n",
              "        const charts = await google.colab.kernel.invokeFunction(\n",
              "            'suggestCharts', [key], {});\n",
              "      }\n",
              "    </script>\n",
              "\n",
              "      <script>\n",
              "\n",
              "function displayQuickchartButton(domScope) {\n",
              "  let quickchartButtonEl =\n",
              "    domScope.querySelector('#df-f68334f2-6cd7-4a3e-882c-bd87b5695980 button.colab-df-quickchart');\n",
              "  quickchartButtonEl.style.display =\n",
              "    google.colab.kernel.accessAllowed ? 'block' : 'none';\n",
              "}\n",
              "\n",
              "        displayQuickchartButton(document);\n",
              "      </script>\n",
              "      <style>\n",
              "    .colab-df-container {\n",
              "      display:flex;\n",
              "      flex-wrap:wrap;\n",
              "      gap: 12px;\n",
              "    }\n",
              "\n",
              "    .colab-df-convert {\n",
              "      background-color: #E8F0FE;\n",
              "      border: none;\n",
              "      border-radius: 50%;\n",
              "      cursor: pointer;\n",
              "      display: none;\n",
              "      fill: #1967D2;\n",
              "      height: 32px;\n",
              "      padding: 0 0 0 0;\n",
              "      width: 32px;\n",
              "    }\n",
              "\n",
              "    .colab-df-convert:hover {\n",
              "      background-color: #E2EBFA;\n",
              "      box-shadow: 0px 1px 2px rgba(60, 64, 67, 0.3), 0px 1px 3px 1px rgba(60, 64, 67, 0.15);\n",
              "      fill: #174EA6;\n",
              "    }\n",
              "\n",
              "    [theme=dark] .colab-df-convert {\n",
              "      background-color: #3B4455;\n",
              "      fill: #D2E3FC;\n",
              "    }\n",
              "\n",
              "    [theme=dark] .colab-df-convert:hover {\n",
              "      background-color: #434B5C;\n",
              "      box-shadow: 0px 1px 3px 1px rgba(0, 0, 0, 0.15);\n",
              "      filter: drop-shadow(0px 1px 2px rgba(0, 0, 0, 0.3));\n",
              "      fill: #FFFFFF;\n",
              "    }\n",
              "  </style>\n",
              "\n",
              "      <script>\n",
              "        const buttonEl =\n",
              "          document.querySelector('#df-1caaec19-56f9-4740-9754-07f51440e932 button.colab-df-convert');\n",
              "        buttonEl.style.display =\n",
              "          google.colab.kernel.accessAllowed ? 'block' : 'none';\n",
              "\n",
              "        async function convertToInteractive(key) {\n",
              "          const element = document.querySelector('#df-1caaec19-56f9-4740-9754-07f51440e932');\n",
              "          const dataTable =\n",
              "            await google.colab.kernel.invokeFunction('convertToInteractive',\n",
              "                                                     [key], {});\n",
              "          if (!dataTable) return;\n",
              "\n",
              "          const docLinkHtml = 'Like what you see? Visit the ' +\n",
              "            '<a target=\"_blank\" href=https://colab.research.google.com/notebooks/data_table.ipynb>data table notebook</a>'\n",
              "            + ' to learn more about interactive tables.';\n",
              "          element.innerHTML = '';\n",
              "          dataTable['output_type'] = 'display_data';\n",
              "          await google.colab.output.renderOutput(dataTable, element);\n",
              "          const docLink = document.createElement('div');\n",
              "          docLink.innerHTML = docLinkHtml;\n",
              "          element.appendChild(docLink);\n",
              "        }\n",
              "      </script>\n",
              "    </div>\n",
              "  </div>\n"
            ]
          },
          "metadata": {},
          "execution_count": 8
        }
      ]
    },
    {
      "cell_type": "code",
      "source": [
        "df.Message_body.iloc[3] #  exemple de message"
      ],
      "metadata": {
        "colab": {
          "base_uri": "https://localhost:8080/",
          "height": 36
        },
        "id": "D0aEEEU-gfCD",
        "outputId": "79fb5af3-9d7b-42b4-fdf1-a8262a08f1ef"
      },
      "execution_count": null,
      "outputs": [
        {
          "output_type": "execute_result",
          "data": {
            "text/plain": [
              "'URGENT! Your Mobile number has been awarded with a £2000 prize GUARANTEED. Call 09058094455 from land line. Claim 3030. Valid 12hrs only'"
            ],
            "application/vnd.google.colaboratory.intrinsic+json": {
              "type": "string"
            }
          },
          "metadata": {},
          "execution_count": 62
        }
      ]
    },
    {
      "cell_type": "code",
      "source": [
        "df.info()"
      ],
      "metadata": {
        "id": "AK6P2yAdghuN",
        "colab": {
          "base_uri": "https://localhost:8080/"
        },
        "outputId": "a726469e-6dac-41d3-f9d0-95fc5ef80852"
      },
      "execution_count": null,
      "outputs": [
        {
          "output_type": "stream",
          "name": "stdout",
          "text": [
            "<class 'pandas.core.frame.DataFrame'>\n",
            "Int64Index: 1082 entries, 0 to 956\n",
            "Data columns (total 3 columns):\n",
            " #   Column        Non-Null Count  Dtype \n",
            "---  ------        --------------  ----- \n",
            " 0   S. No.        1082 non-null   int64 \n",
            " 1   Message_body  1082 non-null   object\n",
            " 2   Label         1082 non-null   object\n",
            "dtypes: int64(1), object(2)\n",
            "memory usage: 33.8+ KB\n"
          ]
        }
      ]
    },
    {
      "cell_type": "code",
      "source": [
        "df.Label.value_counts(normalize = True)"
      ],
      "metadata": {
        "colab": {
          "base_uri": "https://localhost:8080/"
        },
        "id": "f_vaxnutgmR1",
        "outputId": "2bb4cb3d-188a-43e3-9be8-22d350b2c5b9"
      },
      "execution_count": null,
      "outputs": [
        {
          "output_type": "execute_result",
          "data": {
            "text/plain": [
              "Non-Spam    0.817006\n",
              "Spam        0.182994\n",
              "Name: Label, dtype: float64"
            ]
          },
          "metadata": {},
          "execution_count": 64
        }
      ]
    },
    {
      "cell_type": "markdown",
      "source": [
        "# Pré-traitement des données"
      ],
      "metadata": {
        "id": "3JGe_e5CRseK"
      }
    },
    {
      "cell_type": "code",
      "source": [
        "df['Label'] = df['Label'].replace(['Non-Spam','Spam'], [1,0])\n",
        "# renommer \"Non-spam\" et \"Spam\" par \"1\" et \"0\"\n",
        "#pour permettre le traitement des données de la variable cible.\n",
        "# l'entrainement se fait qu'avec des données numériques\n"
      ],
      "metadata": {
        "id": "J7Uza3BBLFhO"
      },
      "execution_count": null,
      "outputs": []
    },
    {
      "cell_type": "code",
      "source": [
        "def Clean(Text):\n",
        "    sms = re.sub('[^a-zA-Z]', ' ', Text) # remplacer les caractère non-alphabétique par l'espace\n",
        "    sms = sms.lower() #convertir  en minuscule\n",
        "    sms = sms.split()\n",
        "    sms = ' '.join(sms)\n",
        "    return sms\n"
      ],
      "metadata": {
        "id": "uyXrDiyg2j-z"
      },
      "execution_count": null,
      "outputs": []
    },
    {
      "cell_type": "code",
      "source": [
        "df[\"Clean_Text\"] = df[\"Message_body\"].apply(Clean)"
      ],
      "metadata": {
        "id": "2r-fjBlE2uoq"
      },
      "execution_count": null,
      "outputs": []
    },
    {
      "cell_type": "code",
      "source": [
        "print(\"\\033[1m\\u001b[45;1m The First 5 Texts after cleaning:\\033[0m\",*[\"Clean_Text\"][:5], sep = \"\\n\")"
      ],
      "metadata": {
        "colab": {
          "base_uri": "https://localhost:8080/"
        },
        "id": "xvydgeTs3lKq",
        "outputId": "b1bb22cd-0b6d-40d9-e315-339698ccea01"
      },
      "execution_count": null,
      "outputs": [
        {
          "output_type": "stream",
          "name": "stdout",
          "text": [
            "\u001b[1m\u001b[45;1m The First 5 Texts after cleaning:\u001b[0m\n",
            "Clean_Text\n"
          ]
        }
      ]
    },
    {
      "cell_type": "markdown",
      "source": [
        "## tokenisation\n",
        "\n",
        "c'est segmenter le texte en mots appelé tokens"
      ],
      "metadata": {
        "id": "SiMbdR7u5I_l"
      }
    },
    {
      "cell_type": "code",
      "source": [
        "df[\"Tokenize_Text\"]=df.apply(lambda row: nltk.word_tokenize(row[\"Clean_Text\"]), axis=1)\n",
        "\n",
        "print(\"\\033[1m\\u001b[45;1m The First 5 Texts after Tokenizing:\\033[0m\",*df[\"Tokenize_Text\"][:5], sep = \"\\n\")"
      ],
      "metadata": {
        "colab": {
          "base_uri": "https://localhost:8080/"
        },
        "id": "t2iw_fgH5Pj5",
        "outputId": "e3e7ef8d-9ba8-4173-b5df-cba917c57df6"
      },
      "execution_count": null,
      "outputs": [
        {
          "output_type": "stream",
          "name": "stdout",
          "text": [
            "\u001b[1m\u001b[45;1m The First 5 Texts after Tokenizing:\u001b[0m\n",
            "['upgrdcentre', 'orange', 'customer', 'you', 'may', 'now', 'claim', 'your', 'free', 'camera', 'phone', 'upgrade', 'for', 'your', 'loyalty', 'call', 'now', 'on', 'offer', 'ends', 'th', 'july', 't', 'c', 's', 'apply', 'opt', 'out', 'available']\n",
            "['loan', 'for', 'any', 'purpose', 'homeowners', 'tenants', 'welcome', 'have', 'you', 'been', 'previously', 'refused', 'we', 'can', 'still', 'help', 'call', 'free', 'or', 'text', 'back', 'help']\n",
            "['congrats', 'nokia', 'video', 'camera', 'phone', 'is', 'your', 'call', 'calls', 'cost', 'ppm', 'ave', 'call', 'mins', 'vary', 'from', 'mobiles', 'close', 'post', 'bcm', 'ldn', 'wc', 'n', 'xx']\n",
            "['urgent', 'your', 'mobile', 'number', 'has', 'been', 'awarded', 'with', 'a', 'prize', 'guaranteed', 'call', 'from', 'land', 'line', 'claim', 'valid', 'hrs', 'only']\n",
            "['someone', 'has', 'contacted', 'our', 'dating', 'service', 'and', 'entered', 'your', 'phone', 'because', 'they', 'fancy', 'you', 'to', 'find', 'out', 'who', 'it', 'is', 'call', 'from', 'a', 'landline', 'pobox', 'n', 'tf', 'p']\n"
          ]
        }
      ]
    },
    {
      "cell_type": "markdown",
      "source": [
        "## retirer les stopwords\n",
        "\n",
        "les stopwords ou mots vides sont des mots ayant peu de sens dans la compréhension du texte.\n",
        "Ils sont généralement retirer lors du pré traitement des données pour ne fournir que les données les plus utiles à la machine."
      ],
      "metadata": {
        "id": "WkvrrYCw8T8y"
      }
    },
    {
      "cell_type": "code",
      "source": [
        "def remove_stopwords(text):\n",
        "    stop_words = set(stopwords.words(\"english\"))\n",
        "    filtered_text = [word for word in text if word not in stop_words]\n",
        "    return filtered_text\n",
        "\n",
        "df[\"Nostopword_Text\"] = df[\"Tokenize_Text\"].apply(remove_stopwords)\n",
        "\n",
        "print(\"\\033[1m\\u001b[45;1m The First 5 Texts after removing the stopwords:\\033[0m\",*df[\"Nostopword_Text\"][:5], sep = \"\\n\")"
      ],
      "metadata": {
        "colab": {
          "base_uri": "https://localhost:8080/"
        },
        "id": "VKm4tmoe9pPr",
        "outputId": "557f3c6b-90d6-4176-cd6f-1e78c6adaf3c"
      },
      "execution_count": null,
      "outputs": [
        {
          "output_type": "stream",
          "name": "stdout",
          "text": [
            "\u001b[1m\u001b[45;1m The First 5 Texts after removing the stopwords:\u001b[0m\n",
            "['upgrdcentre', 'orange', 'customer', 'may', 'claim', 'free', 'camera', 'phone', 'upgrade', 'loyalty', 'call', 'offer', 'ends', 'th', 'july', 'c', 'apply', 'opt', 'available']\n",
            "['loan', 'purpose', 'homeowners', 'tenants', 'welcome', 'previously', 'refused', 'still', 'help', 'call', 'free', 'text', 'back', 'help']\n",
            "['congrats', 'nokia', 'video', 'camera', 'phone', 'call', 'calls', 'cost', 'ppm', 'ave', 'call', 'mins', 'vary', 'mobiles', 'close', 'post', 'bcm', 'ldn', 'wc', 'n', 'xx']\n",
            "['urgent', 'mobile', 'number', 'awarded', 'prize', 'guaranteed', 'call', 'land', 'line', 'claim', 'valid', 'hrs']\n",
            "['someone', 'contacted', 'dating', 'service', 'entered', 'phone', 'fancy', 'find', 'call', 'landline', 'pobox', 'n', 'tf', 'p']\n"
          ]
        }
      ]
    },
    {
      "cell_type": "markdown",
      "source": [
        "## lemmentisation\n",
        "\n",
        "Elle vise à ramener les mots à leur forme canonique (lemme) en prenant en compte leur partie du discours et leur contexte grammatical dans la phrase. Le lemme est la forme de base ou le dictionnaire du mot. Par exemple, le lemme du verbe \"marche\" est \"marcher\", et le lemme du nom \"marches\" est \"marche\"."
      ],
      "metadata": {
        "id": "bQo6aR64-LqX"
      }
    },
    {
      "cell_type": "code",
      "source": [
        "lemmatizer = WordNetLemmatizer()\n",
        "# lemmatize string\n",
        "def lemmatize_word(text):\n",
        "    #word_tokens = word_tokenize(text)\n",
        "    # provide context i.e. part-of-speech\n",
        "    lemmas = [lemmatizer.lemmatize(word, pos ='v') for word in text]\n",
        "    return lemmas\n",
        "\n",
        "\n",
        "df[\"Lemmatized_Text\"] = df[\"Nostopword_Text\"].apply(lemmatize_word)\n",
        "print(\"\\033[1m\\u001b[45;1m The First 5 Texts after lemitization:\\033[0m\",*df[\"Lemmatized_Text\"][:5], sep = \"\\n\")"
      ],
      "metadata": {
        "colab": {
          "base_uri": "https://localhost:8080/"
        },
        "id": "gss6NX63--zq",
        "outputId": "41453e54-6a96-466e-a3fc-57de7f38befe"
      },
      "execution_count": null,
      "outputs": [
        {
          "output_type": "stream",
          "name": "stdout",
          "text": [
            "\u001b[1m\u001b[45;1m The First 5 Texts after lemitization:\u001b[0m\n",
            "['upgrdcentre', 'orange', 'customer', 'may', 'claim', 'free', 'camera', 'phone', 'upgrade', 'loyalty', 'call', 'offer', 'end', 'th', 'july', 'c', 'apply', 'opt', 'available']\n",
            "['loan', 'purpose', 'homeowners', 'tenant', 'welcome', 'previously', 'refuse', 'still', 'help', 'call', 'free', 'text', 'back', 'help']\n",
            "['congrats', 'nokia', 'video', 'camera', 'phone', 'call', 'call', 'cost', 'ppm', 'ave', 'call', 'mins', 'vary', 'mobiles', 'close', 'post', 'bcm', 'ldn', 'wc', 'n', 'xx']\n",
            "['urgent', 'mobile', 'number', 'award', 'prize', 'guarantee', 'call', 'land', 'line', 'claim', 'valid', 'hrs']\n",
            "['someone', 'contact', 'date', 'service', 'enter', 'phone', 'fancy', 'find', 'call', 'landline', 'pobox', 'n', 'tf', 'p']\n"
          ]
        }
      ]
    },
    {
      "cell_type": "code",
      "source": [
        "from sklearn.model_selection import train_test_split # diviser les données en données d'entrainement et de test"
      ],
      "metadata": {
        "id": "jAb2lFAJ-c4D"
      },
      "execution_count": null,
      "outputs": []
    },
    {
      "cell_type": "code",
      "source": [
        "y=df['Label'].values # variable cible\n",
        "x= df['Lemmatized_Text'].values# variable dépendante"
      ],
      "metadata": {
        "id": "U53A3HNETxMU"
      },
      "execution_count": null,
      "outputs": []
    },
    {
      "cell_type": "code",
      "source": [
        "seed = 123\n",
        "x_train, x_test, y_train, y_test = train_test_split(\n",
        "    x,\n",
        "    y,test_size = 0.2,\n",
        "    random_state = seed\n",
        ")"
      ],
      "metadata": {
        "id": "Q5DzIal9_IJq"
      },
      "execution_count": null,
      "outputs": []
    },
    {
      "cell_type": "code",
      "source": [
        "y"
      ],
      "metadata": {
        "id": "0R_E90UrUEzr",
        "colab": {
          "base_uri": "https://localhost:8080/"
        },
        "outputId": "d13c154d-1be9-45e1-8f31-de2f64acb2dd"
      },
      "execution_count": null,
      "outputs": [
        {
          "output_type": "execute_result",
          "data": {
            "text/plain": [
              "array([0, 0, 0, ..., 1, 1, 1])"
            ]
          },
          "metadata": {},
          "execution_count": 75
        }
      ]
    },
    {
      "cell_type": "code",
      "source": [
        "from sklearn.feature_extraction.text import CountVectorizer\n",
        "# la vectorisation est une technique qui permet de numériser les données\n",
        "# dans notre cas ce sont les données de la variable dépendante puisque ceux de la variable cible\n",
        "# ont fait plus haut objet de pré-traitement\n",
        "\n"
      ],
      "metadata": {
        "id": "IcvvsMykACnM"
      },
      "execution_count": null,
      "outputs": []
    },
    {
      "cell_type": "code",
      "source": [
        "# Avant d'appliquer fit_transform(), convertir la liste de listes en une liste de chaînes de caractères\n",
        "x_train_str = [' '.join(tokens) for tokens in x_train]\n",
        "x_test_str = [' '.join(tokens) for tokens in x_test]\n",
        "\n",
        "# Ensuite, appliquer fit_transform()\n",
        "Vectorizer = CountVectorizer()\n",
        "x_train_vec = Vectorizer.fit_transform(x_train_str)\n",
        "x_test_vec = Vectorizer.transform(x_test_str)\n"
      ],
      "metadata": {
        "id": "Juwjgl8UGwEw"
      },
      "execution_count": null,
      "outputs": []
    },
    {
      "cell_type": "code",
      "source": [
        "x_train_vec\n"
      ],
      "metadata": {
        "id": "6--dE1ahCR4k",
        "colab": {
          "base_uri": "https://localhost:8080/"
        },
        "outputId": "e244f93a-c51b-44bb-b2e9-76df0125b106"
      },
      "execution_count": null,
      "outputs": [
        {
          "output_type": "execute_result",
          "data": {
            "text/plain": [
              "<865x2392 sparse matrix of type '<class 'numpy.int64'>'\n",
              "\twith 7230 stored elements in Compressed Sparse Row format>"
            ]
          },
          "metadata": {},
          "execution_count": 78
        }
      ]
    },
    {
      "cell_type": "markdown",
      "source": [
        "# entrainement et prédictions"
      ],
      "metadata": {
        "id": "QJEzEy65T5KA"
      }
    },
    {
      "cell_type": "code",
      "source": [
        "from sklearn.svm import SVC\n",
        "from sklearn.naive_bayes import MultinomialNB\n",
        "from sklearn.neighbors import KNeighborsClassifier\n",
        "from sklearn.ensemble import RandomForestClassifier\n",
        "from sklearn.tree import DecisionTreeClassifier\n",
        "svm_model=SVC()\n",
        "nb_model=MultinomialNB()\n",
        "knn_model=KNeighborsClassifier()\n",
        "rf_model=RandomForestClassifier()\n",
        "df_model=DecisionTreeClassifier()\n",
        "lst_model=[svm_model,nb_model,knn_model,rf_model,df_model]\n",
        "# importation dess modèles pour une étude comparatif"
      ],
      "metadata": {
        "id": "Mw6Un-gdLWU7"
      },
      "execution_count": null,
      "outputs": []
    },
    {
      "cell_type": "code",
      "source": [
        "# entrainement avec différents algorithmes suivi d'un rapport de classification\n",
        "from sklearn.metrics import confusion_matrix,classification_report\n",
        "for i in lst_model:\n",
        "  print(i)\n",
        "  i.fit(x_train_vec,y_train)\n",
        "  y_pred=i.predict(x_test_vec)\n",
        "  print(\"********************************************************************************\")\n",
        "  print(classification_report(y_test,y_pred))\n",
        "  print(\"********************************************************************************\")"
      ],
      "metadata": {
        "colab": {
          "base_uri": "https://localhost:8080/"
        },
        "id": "jaTYqFk2TDUd",
        "outputId": "90447df9-5c99-4ba6-bc03-f34626a52178"
      },
      "execution_count": null,
      "outputs": [
        {
          "output_type": "stream",
          "name": "stdout",
          "text": [
            "SVC()\n",
            "********************************************************************************\n",
            "              precision    recall  f1-score   support\n",
            "\n",
            "           0       0.97      0.85      0.91        40\n",
            "           1       0.97      0.99      0.98       177\n",
            "\n",
            "    accuracy                           0.97       217\n",
            "   macro avg       0.97      0.92      0.94       217\n",
            "weighted avg       0.97      0.97      0.97       217\n",
            "\n",
            "********************************************************************************\n",
            "MultinomialNB()\n",
            "********************************************************************************\n",
            "              precision    recall  f1-score   support\n",
            "\n",
            "           0       0.91      1.00      0.95        40\n",
            "           1       1.00      0.98      0.99       177\n",
            "\n",
            "    accuracy                           0.98       217\n",
            "   macro avg       0.95      0.99      0.97       217\n",
            "weighted avg       0.98      0.98      0.98       217\n",
            "\n",
            "********************************************************************************\n",
            "KNeighborsClassifier()\n",
            "********************************************************************************\n",
            "              precision    recall  f1-score   support\n",
            "\n",
            "           0       1.00      0.12      0.22        40\n",
            "           1       0.83      1.00      0.91       177\n",
            "\n",
            "    accuracy                           0.84       217\n",
            "   macro avg       0.92      0.56      0.57       217\n",
            "weighted avg       0.87      0.84      0.78       217\n",
            "\n",
            "********************************************************************************\n",
            "RandomForestClassifier()\n",
            "********************************************************************************\n",
            "              precision    recall  f1-score   support\n",
            "\n",
            "           0       0.97      0.78      0.86        40\n",
            "           1       0.95      0.99      0.97       177\n",
            "\n",
            "    accuracy                           0.95       217\n",
            "   macro avg       0.96      0.88      0.92       217\n",
            "weighted avg       0.95      0.95      0.95       217\n",
            "\n",
            "********************************************************************************\n",
            "DecisionTreeClassifier()\n",
            "********************************************************************************\n",
            "              precision    recall  f1-score   support\n",
            "\n",
            "           0       0.75      0.90      0.82        40\n",
            "           1       0.98      0.93      0.95       177\n",
            "\n",
            "    accuracy                           0.93       217\n",
            "   macro avg       0.86      0.92      0.89       217\n",
            "weighted avg       0.93      0.93      0.93       217\n",
            "\n",
            "********************************************************************************\n"
          ]
        }
      ]
    },
    {
      "cell_type": "code",
      "source": [
        "for i in lst_model:\n",
        "  print(i)\n",
        "  re=i.predict(Vectorizer.transform([\"URGENT! Congratulations! Your Mobile number has been selected as the winner of a guaranteed £2000 prize. To claim your prize, please contact us at 09058094455 using a landline. Remember to provide the code 3030 when you call. This exclusive offer is valid for a limited time of 12 hours only.\"]))\n",
        "  print(re)"
      ],
      "metadata": {
        "colab": {
          "base_uri": "https://localhost:8080/"
        },
        "id": "TXlO6P4vgqqx",
        "outputId": "ad9a93c4-eceb-43db-88eb-bde270ff2f8a"
      },
      "execution_count": null,
      "outputs": [
        {
          "output_type": "stream",
          "name": "stdout",
          "text": [
            "SVC()\n",
            "[0]\n",
            "MultinomialNB()\n",
            "[0]\n",
            "KNeighborsClassifier()\n",
            "[0]\n",
            "RandomForestClassifier()\n",
            "[0]\n",
            "DecisionTreeClassifier()\n",
            "[0]\n"
          ]
        }
      ]
    },
    {
      "cell_type": "code",
      "source": [
        "rf_model.predict(Vectorizer.transform([\"click on this link to get an iphone for free\"]))"
      ],
      "metadata": {
        "colab": {
          "base_uri": "https://localhost:8080/"
        },
        "id": "uTChuH2wokpF",
        "outputId": "c52047d5-38c7-4764-c3d1-f84d2423b3ae"
      },
      "execution_count": null,
      "outputs": [
        {
          "output_type": "execute_result",
          "data": {
            "text/plain": [
              "array([1])"
            ]
          },
          "metadata": {},
          "execution_count": 82
        }
      ]
    },
    {
      "cell_type": "markdown",
      "source": [
        "# Conclusion\n",
        "\n",
        "Au terme de ce didacticiel , au vue du rapport de classification les résultas sont puôt satisfaisant. Cependant, la dernière ligne du code qui prédit une phrase ressemblant à un spam est prédite comme non-spam. Alors on peut effectuer une mutitude de combinaison de traitements possible comme:\n",
        "*  Augmenter les données\n",
        "*  Analyse du contexte\n",
        "*  Filtrage bayésien\n",
        "*   Filtrage bayésien\n",
        "*   Remplacer les URL des mails spamé par un mot clé. les urls sont souvent indicateur de spam\n",
        "\n",
        "\n",
        "\n"
      ],
      "metadata": {
        "id": "pm2C1G_eUoRh"
      }
    }
  ]
}